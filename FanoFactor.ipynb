{
  "cells": [
    {
      "cell_type": "markdown",
      "source": [
        "# Exploring Fano Factor\n",
        "One of the key results in So *et al* is that of the universal curve linking Fano factor to mean expression. We might like to demonstrate that the same result may be obtained by varying $K$ and its variance."
      ],
      "metadata": {}
    },
    {
      "cell_type": "code",
      "source": [
        "using Distributions, Plots\n",
        "gr()\n",
        "import TxModels"
      ],
      "outputs": [],
      "execution_count": 1,
      "metadata": {
        "collapsed": false,
        "outputHidden": false,
        "inputHidden": false
      }
    },
    {
      "cell_type": "code",
      "source": [
        "L = 1000\n",
        "Kvec = 10 .^(range(-3,stop=log10(30),length=150))\n",
        "# σvec = 10.0*ones(size(Kvec))    # Constant σ\n",
        "# σvec = 10.0./sqrt.(Kvec)    # Decreasing σ\n",
        "# σvec = 10.0.*sqrt.(Kvec)    # Increasing σ\n",
        "σvec = 0.7.*Kvec    # Constant coefficient of variation\n",
        "Means = zeros(L)\n",
        "Vars = zeros(L)\n",
        "\n",
        "for ii=1:length(Kvec)\n",
        "    samples = TxModels.samplecompound([Kvec[ii],1.0,0.0],[σvec[ii]], :Poisson,:Gamma, 200)\n",
        "    Means[ii] = mean(samples)\n",
        "    Vars[ii] = var(samples)\n",
        "end\n",
        "replace!(Means,Pair(0.0,NaN))\n",
        "replace!(Vars,Pair(0.0,NaN))\n",
        "\n",
        "plot(Means,Vars./Means, line=0,marker=1, xscale=:log10,ylims=(0,Inf), xlabel=\"Mean expression level\",ylabel=\"Fano factor\",legend=false)\n",
        "Plots.pdf(\"Fig3a\")"
      ],
      "outputs": [],
      "execution_count": null,
      "metadata": {
        "collapsed": false,
        "outputHidden": false,
        "inputHidden": false
      }
    },
    {
      "cell_type": "code",
      "source": [
        "y = log.(Vars./(Means).^2)\n",
        "# plot(Means,y, line=0,marker=1, xscale=:log10, xlabel=\"Mean expression level\",ylabel=\"Squared noise\")\n",
        "plot(Means,Vars./(Means).^2, line=0,marker=1, yscale=:log10,xscale=:log10, xlabel=\"Mean expression level\",ylabel=\"Squared noise\",legend=false)\n",
        "Plots.pdf(\"Fig3b\")"
      ],
      "outputs": [],
      "execution_count": null,
      "metadata": {
        "collapsed": false,
        "outputHidden": false,
        "inputHidden": false
      }
    },
    {
      "cell_type": "code",
      "source": [],
      "outputs": [],
      "execution_count": null,
      "metadata": {
        "collapsed": false,
        "outputHidden": false,
        "inputHidden": false
      }
    }
  ],
  "metadata": {
    "kernel_info": {
      "name": "julia-1.1"
    },
    "language_info": {
      "file_extension": ".jl",
      "name": "julia",
      "mimetype": "application/julia",
      "version": "1.1.0"
    },
    "kernelspec": {
      "name": "julia-1.1",
      "language": "julia",
      "display_name": "Julia 1.1.0"
    },
    "nteract": {
      "version": "0.12.3"
    }
  },
  "nbformat": 4,
  "nbformat_minor": 4
}